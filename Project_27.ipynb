{
  "nbformat": 4,
  "nbformat_minor": 0,
  "metadata": {
    "colab": {
      "provenance": [],
      "include_colab_link": true
    },
    "kernelspec": {
      "name": "python3",
      "display_name": "Python 3"
    },
    "language_info": {
      "name": "python"
    }
  },
  "cells": [
    {
      "cell_type": "markdown",
      "metadata": {
        "id": "view-in-github",
        "colab_type": "text"
      },
      "source": [
        "<a href=\"https://colab.research.google.com/github/SWGold5/MOL-AppService/blob/main/Project_27.ipynb\" target=\"_parent\"><img src=\"https://colab.research.google.com/assets/colab-badge.svg\" alt=\"Open In Colab\"/></a>"
      ]
    },
    {
      "cell_type": "code",
      "execution_count": null,
      "metadata": {
        "id": "P9Eb0pFL9HXG",
        "colab": {
          "base_uri": "https://localhost:8080/"
        },
        "outputId": "1033fb47-b2d1-4cad-8c94-bdd4a50294f7"
      },
      "outputs": [
        {
          "output_type": "stream",
          "name": "stdout",
          "text": [
            "[89, 21, 34, 56, 77, 22, 21, 35, 19, 56]\n",
            "[19, 21, 21, 22, 34, 35, 56, 56, 77, 89]\n"
          ]
        }
      ],
      "source": [
        "class pyList:\n",
        "  def __init__(self, items, size=None):\n",
        "    if items is None:\n",
        "      items = []\n",
        "    if size is not None:\n",
        "      items = items[size]\n",
        "    self.items = items\n",
        "\n",
        "  def __len__(self):\n",
        "    return len(self.items)\n",
        "\n",
        "  def __getitem__(self, index):\n",
        "    return self.items[index]\n",
        "\n",
        "  def __setitem__(self, index, value):\n",
        "    self.items[index] = value\n",
        "\n",
        "  def append(self, item):\n",
        "    self.items.append(item)\n",
        "\n",
        "class Stack:\n",
        "  def __init__(self, items, size = 10):\n",
        "    if items is None:\n",
        "      items=[]\n",
        "    self.items=items[:size]\n",
        "\n",
        "  def pop(self):\n",
        "    if self.items == []:\n",
        "        raise RuntimeError(\"Attempt to pop a stack\")\n",
        "\n",
        "    topIdx = len(self.items) - 1\n",
        "    item = self.items[topIdx]\n",
        "    del self.items[topIdx]\n",
        "    return item\n",
        "\n",
        "  def push(self, item):\n",
        "    self.items.append(item)\n",
        "\n",
        "  def top(self):\n",
        "    topIdx=len(self.items)-1\n",
        "    if self.isEmpty():\n",
        "     raise RuntimeError(\"Attempt to get top of stack\")\n",
        "    return self.items[topIdx]\n",
        "\n",
        "  def isEmpty(self):\n",
        "    return len(self.items) == 0\n",
        "\n",
        "  def printS(self):\n",
        "    while not self.isEmpty():\n",
        "        print(self.pop())\n",
        "\n",
        "  def select(seq,start):\n",
        "    miniIndex = start\n",
        "\n",
        "    for j in range(start + 1, len(seq)):\n",
        "      if seq[miniIndex] > seq[j]:\n",
        "        miniIndex = j\n",
        "\n",
        "    return miniIndex\n",
        "\n",
        "  def selSort(seq):\n",
        "    for i in range(len(seq) - 1):\n",
        "      miniIndex = Stack.select(seq, i)\n",
        "      tmp = seq[i]\n",
        "      seq[i] = seq[miniIndex]\n",
        "      seq[miniIndex] = tmp\n",
        "    return seq\n",
        "\n",
        "\n",
        "def main():\n",
        "    numberlst=[89,21,34,56,77,22,21,35,19,56]\n",
        "    s = Stack(items=numberlst)\n",
        "    lst = [i for i in range(10)]\n",
        "\n",
        "\n",
        "    for k in lst:\n",
        "      s.push(k)\n",
        "\n",
        "    #s.printS()\n",
        "    print(numberlst)\n",
        "    Stack.selSort(numberlst)\n",
        "    print(numberlst)\n",
        "\n",
        "if __name__ == \"__main__\":\n",
        "    main()\n",
        "\n",
        "\n",
        "\n"
      ]
    }
  ]
}